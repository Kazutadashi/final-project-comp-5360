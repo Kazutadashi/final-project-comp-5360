{
 "cells": [
  {
   "cell_type": "code",
   "execution_count": 1,
   "metadata": {},
   "outputs": [],
   "source": [
    "import pandas as pd\n",
    "import numpy as np"
   ]
  },
  {
   "cell_type": "code",
   "execution_count": 5,
   "metadata": {},
   "outputs": [
    {
     "name": "stderr",
     "output_type": "stream",
     "text": [
      "/anaconda3/lib/python3.6/site-packages/IPython/core/interactiveshell.py:3020: DtypeWarning: Columns (6,1380,1381,1382,1383,1384,1387,1388,1394,1395,1396,1397,1398,1401,1402,1503,1504,1534,1535,1606,1708) have mixed types. Specify dtype option on import or set low_memory=False.\n",
      "  interactivity=interactivity, compiler=compiler, result=result)\n"
     ]
    }
   ],
   "source": [
    "df16 = pd.read_csv(r'CollegeScorecard_Raw_Data/MERGED2016_17_PP.csv', usecols=colNames)\n"
   ]
  },
  {
   "cell_type": "code",
   "execution_count": null,
   "metadata": {},
   "outputs": [],
   "source": [
    "chunk_list = []\n",
    "\n",
    "for col in df16:\n",
    "    if df16dtype "
   ]
  },
  {
   "cell_type": "code",
   "execution_count": 8,
   "metadata": {},
   "outputs": [
    {
     "data": {
      "text/plain": [
       "[dtype('int64'),\n",
       " dtype('O'),\n",
       " dtype('O'),\n",
       " dtype('O'),\n",
       " dtype('O'),\n",
       " dtype('int64'),\n",
       " dtype('int64'),\n",
       " dtype('int64'),\n",
       " dtype('int64'),\n",
       " dtype('float64'),\n",
       " dtype('float64'),\n",
       " dtype('float64'),\n",
       " dtype('float64'),\n",
       " dtype('float64'),\n",
       " dtype('float64'),\n",
       " dtype('float64'),\n",
       " dtype('float64'),\n",
       " dtype('float64'),\n",
       " dtype('float64'),\n",
       " dtype('float64'),\n",
       " dtype('float64'),\n",
       " dtype('float64'),\n",
       " dtype('float64'),\n",
       " dtype('float64'),\n",
       " dtype('float64'),\n",
       " dtype('float64'),\n",
       " dtype('float64'),\n",
       " dtype('float64'),\n",
       " dtype('float64'),\n",
       " dtype('float64'),\n",
       " dtype('float64'),\n",
       " dtype('float64'),\n",
       " dtype('float64'),\n",
       " dtype('float64'),\n",
       " dtype('float64'),\n",
       " dtype('float64'),\n",
       " dtype('float64'),\n",
       " dtype('float64'),\n",
       " dtype('float64'),\n",
       " dtype('float64'),\n",
       " dtype('float64'),\n",
       " dtype('float64'),\n",
       " dtype('float64'),\n",
       " dtype('float64'),\n",
       " dtype('float64'),\n",
       " dtype('float64'),\n",
       " dtype('float64'),\n",
       " dtype('float64'),\n",
       " dtype('float64'),\n",
       " dtype('float64'),\n",
       " dtype('float64'),\n",
       " dtype('float64'),\n",
       " dtype('float64'),\n",
       " dtype('float64'),\n",
       " dtype('float64'),\n",
       " dtype('float64'),\n",
       " dtype('float64'),\n",
       " dtype('float64'),\n",
       " dtype('float64'),\n",
       " dtype('float64'),\n",
       " dtype('float64'),\n",
       " dtype('float64'),\n",
       " dtype('float64'),\n",
       " dtype('float64'),\n",
       " dtype('float64'),\n",
       " dtype('float64'),\n",
       " dtype('float64'),\n",
       " dtype('float64'),\n",
       " dtype('float64'),\n",
       " dtype('float64'),\n",
       " dtype('float64'),\n",
       " dtype('float64'),\n",
       " dtype('float64'),\n",
       " dtype('float64'),\n",
       " dtype('O'),\n",
       " dtype('O'),\n",
       " dtype('O'),\n",
       " dtype('O'),\n",
       " dtype('O'),\n",
       " dtype('O'),\n",
       " dtype('O'),\n",
       " dtype('O'),\n",
       " dtype('O'),\n",
       " dtype('O'),\n",
       " dtype('O'),\n",
       " dtype('O'),\n",
       " dtype('O'),\n",
       " dtype('O'),\n",
       " dtype('O'),\n",
       " dtype('O'),\n",
       " dtype('O'),\n",
       " dtype('O'),\n",
       " dtype('O'),\n",
       " dtype('O'),\n",
       " dtype('O'),\n",
       " dtype('O'),\n",
       " dtype('O'),\n",
       " dtype('O'),\n",
       " dtype('O'),\n",
       " dtype('O'),\n",
       " dtype('O'),\n",
       " dtype('O'),\n",
       " dtype('O'),\n",
       " dtype('O'),\n",
       " dtype('O'),\n",
       " dtype('O'),\n",
       " dtype('O'),\n",
       " dtype('O'),\n",
       " dtype('float64'),\n",
       " dtype('float64'),\n",
       " dtype('float64'),\n",
       " dtype('float64'),\n",
       " dtype('float64'),\n",
       " dtype('float64'),\n",
       " dtype('float64'),\n",
       " dtype('float64'),\n",
       " dtype('float64'),\n",
       " dtype('float64'),\n",
       " dtype('float64'),\n",
       " dtype('float64'),\n",
       " dtype('float64'),\n",
       " dtype('O'),\n",
       " dtype('O'),\n",
       " dtype('O')]"
      ]
     },
     "execution_count": 8,
     "metadata": {},
     "output_type": "execute_result"
    }
   ],
   "source": [
    "list(df16.dtypes)"
   ]
  },
  {
   "cell_type": "code",
   "execution_count": 4,
   "metadata": {},
   "outputs": [],
   "source": [
    "colNames=['UNITID','INSTNM','CITY','STABBR','ZIP','PREDDEG','HIGHDEG','CONTROL','REGION','LATITUDE','LONGITUDE',\n",
    "'HBCU','PBI','ANNHI','TRIBAL','AANAPII','HSI','NANTI','MENONLY','WOMENONLY','RELAFFIL','ADM_RATE',\n",
    "'SAT_AVG','SAT_AVG_ALL','UGDS','UG','UGDS_WHITE','UGDS_BLACK','UGDS_HISP','UGDS_ASIAN','UGDS_AIAN',\n",
    "'UGDS_NHPI','UGDS_2MOR','UGDS_NRA','UGDS_UNKN','UGDS_WHITENH','UGDS_BLACKNH','UGDS_API','UGDS_AIANOLD',\n",
    "'UGDS_HISPOLD','NPT4_PUB','NPT4_PRIV','COSTT4_A','COSTT4_P','TUITIONFEE_IN','TUITIONFEE_OUT','TUITIONFEE_PROG',\n",
    "'TUITFTE','INEXPFTE','AVGFACSAL','PFTFAC','PCTPELL','C150_4','C150_L4','PFTFTUG1_EF','D150_4','D150_L4',\n",
    "'RET_FT4','RET_FTL4','RET_PT4','RET_PTL4','PCTFLOAN','CDR2','CDR3','COMP_ORIG_YR2_RT','WDRAW_ORIG_YR2_RT',\n",
    "'ENRL_ORIG_YR2_RT','COMPL_RPY_1YR_RT','NONCOM_RPY_1YR_RT','LO_INC_RPY_1YR_RT','MD_INC_RPY_1YR_RT',\n",
    "'HI_INC_RPY_1YR_RT','PELL_RPY_1YR_RT','NOPELL_RPY_1YR_RT','COMPL_RPY_3YR_RT','NONCOM_RPY_3YR_RT',\n",
    "'LO_INC_RPY_3YR_RT','MD_INC_RPY_3YR_RT','HI_INC_RPY_3YR_RT','PELL_RPY_3YR_RT','NOPELL_RPY_3YR_RT',\n",
    "'COMPL_RPY_5YR_RT','NONCOM_RPY_5YR_RT','LO_INC_RPY_5YR_RT','MD_INC_RPY_5YR_RT','HI_INC_RPY_5YR_RT',\n",
    "'PELL_RPY_5YR_RT','NOPELL_RPY_5YR_RT','COMPL_RPY_7YR_RT','NONCOM_RPY_7YR_RT','LO_INC_RPY_7YR_RT',\n",
    "'MD_INC_RPY_7YR_RT','HI_INC_RPY_7YR_RT','PELL_RPY_7YR_RT','NOPELL_RPY_7YR_RT','DEBT_MDN','GRAD_DEBT_MDN',\n",
    "'WDRAW_DEBT_MDN','LO_INC_DEBT_MDN','MD_INC_DEBT_MDN','HI_INC_DEBT_MDN','CUML_DEBT_P90','CUML_DEBT_P75',\n",
    "'CUML_DEBT_P25','CUML_DEBT_P10','LOAN_EVER','PELL_EVER','AGE_ENTRY','MN_EARN_WNE_P10','MD_EARN_WNE_P10',\n",
    "'SD_EARN_WNE_P10','MN_EARN_WNE_P6','MD_EARN_WNE_P6','SD_EARN_WNE_P6','MN_EARN_WNE_P7','SD_EARN_WNE_P7',\n",
    "'MN_EARN_WNE_P8','MD_EARN_WNE_P8','SD_EARN_WNE_P8','MN_EARN_WNE_P9','SD_EARN_WNE_P9','DEBT_MDN_SUPP',\n",
    "'GRAD_DEBT_MDN_SUPP','GRAD_DEBT_MDN10YR_SUPP']"
   ]
  },
  {
   "cell_type": "code",
   "execution_count": null,
   "metadata": {},
   "outputs": [],
   "source": []
  }
 ],
 "metadata": {
  "kernelspec": {
   "display_name": "Python 3",
   "language": "python",
   "name": "python3"
  },
  "language_info": {
   "codemirror_mode": {
    "name": "ipython",
    "version": 3
   },
   "file_extension": ".py",
   "mimetype": "text/x-python",
   "name": "python",
   "nbconvert_exporter": "python",
   "pygments_lexer": "ipython3",
   "version": "3.6.8"
  }
 },
 "nbformat": 4,
 "nbformat_minor": 2
}
