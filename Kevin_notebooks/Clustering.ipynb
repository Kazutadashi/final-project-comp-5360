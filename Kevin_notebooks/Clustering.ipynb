{
 "cells": [
  {
   "cell_type": "code",
   "execution_count": null,
   "metadata": {},
   "outputs": [],
   "source": [
    "\n",
    "import pandas as pd\n",
    "import numpy as np\n",
    "\n",
    "import time\n",
    "import pickle\n",
    "\n",
    "from sklearn.impute import SimpleImputer\n",
    "from sklearn import metrics\n",
    "from sklearn.neighbors import KNeighborsClassifier\n",
    "from sklearn.model_selection import train_test_split, cross_val_predict, cross_val_score, KFold\n",
    "from sklearn.preprocessing import scale\n",
    "from sklearn.metrics import accuracy_score\n",
    "from sklearn.cluster import DBSCAN\n",
    "from sklearn.decomposition import PCA \n",
    "from sklearn.preprocessing import StandardScaler\n",
    "from sklearn import metrics\n",
    "from sklearn.datasets import make_blobs, make_moons, load_iris, load_digits\n",
    "from sklearn.cluster import *\n",
    "from sklearn.neighbors import kneighbors_graph\n",
    "from sklearn.metrics import homogeneity_score, homogeneity_completeness_v_measure\n",
    "from sklearn.preprocessing import scale\n",
    "from collections import Counter\n",
    "\n",
    "import hdbscan\n",
    "from mpl_toolkits.mplot3d import Axes3D\n",
    "import seaborn as sns\n",
    "\n",
    "import matplotlib.pyplot as plt\n",
    "%matplotlib inline\n",
    "plt.rcParams['figure.figsize'] = (10, 10)\n",
    "plt.style.use('seaborn')"
   ]
  },
  {
   "cell_type": "code",
   "execution_count": null,
   "metadata": {
    "collapsed": true
   },
   "outputs": [],
   "source": [
    "#load in the data from the pickle objects\n",
    "all_schools = pd.read_pickle(\"allschools_df.pkl\")\n",
    "public_schools = pd.read_pickle(\"public_df.pkl\")\n",
    "for_profit = pd.read_pickle(\"forprofit_df.pkl\")\n",
    "non_profit = pd.read_pickle(\"nonprofit_df.pkl\")\n",
    "\n",
    "allschoolsPCA = pd.read_pickle(\"allschoolsPCA.pkl\")\n",
    "publicPCA = pd.read_pickle(\"publicschoolPCA.pkl\")\n",
    "nonprofitPCA = pd.read_pickle(\"nonprofitPCA.pkl\")\n",
    "forprofitPCA = pd.read_pickle(\"forprofitPCA.pkl\")"
   ]
  },
  {
   "cell_type": "markdown",
   "metadata": {},
   "source": [
    "### HDBSCAN with Principal Components of All Schools"
   ]
  },
  {
   "cell_type": "code",
   "execution_count": null,
   "metadata": {},
   "outputs": [],
   "source": [
    "%%time\n",
    "clusterer = hdbscan.HDBSCAN(min_cluster_size=50, min_samples=25)\n",
    "cluster_labels = clusterer.fit_predict(allschoolsPCA)\n",
    "hdlabels = clusterer.labels_"
   ]
  },
  {
   "cell_type": "code",
   "execution_count": null,
   "metadata": {},
   "outputs": [],
   "source": [
    "clusterList = list(zip(hdlabels, allschoolsPCA.index.values))\n",
    "len(clusterList)"
   ]
  },
  {
   "cell_type": "code",
   "execution_count": null,
   "metadata": {
    "collapsed": true
   },
   "outputs": [],
   "source": [
    "\n",
    "for i in sorted(clusterList, key=lambda x: x[0]):\n",
    "    if i[0] < 0:\n",
    "        clusterList.remove(i)"
   ]
  },
  {
   "cell_type": "code",
   "execution_count": null,
   "metadata": {},
   "outputs": [],
   "source": [
    "len(clusterList)"
   ]
  },
  {
   "cell_type": "code",
   "execution_count": null,
   "metadata": {
    "collapsed": true
   },
   "outputs": [],
   "source": [
    "sorted_ClusterList = sorted(clusterList, key=lambda x: x[0])\n",
    "#sorted_ClusterList"
   ]
  },
  {
   "cell_type": "code",
   "execution_count": null,
   "metadata": {},
   "outputs": [],
   "source": [
    "# this cell creates a rotating 3D scatter plot of the top 3 principal components in a pop up window\n",
    "from matplotlib import interactive\n",
    "from PyQt5 import QtGui, QtCore\n",
    "interactive(True)\n",
    "%matplotlib qt\n",
    "\n",
    "num_clusters = clusterer.labels_.max()\n",
    "fig = plt.figure(figsize=(10,10))\n",
    "ax = fig.add_subplot(111, projection='3d')\n",
    "\n",
    "color_palette = sns.color_palette('bright', 8)\n",
    "cluster_colors = [color_palette[x] if x >= 0\n",
    "                  else (0.9, 0.9, 0.9)\n",
    "                  for x in clusterer.labels_]\n",
    "cluster_member_colors = [sns.desaturate(x, p) for x, p in\n",
    "                         zip(cluster_colors, clusterer.probabilities_)]\n",
    "ax.scatter(allschoolsPCA.PC1, allschoolsPCA.PC2, allschoolsPCA.PC3, linewidth=0, \n",
    "                  c=cluster_member_colors, alpha=0.4)\n",
    "\n",
    "\n",
    "ax.set_xlabel('PC1')\n",
    "ax.set_ylabel('PC2')\n",
    "ax.set_zlabel('PC3')\n",
    "plt.title(\"Hierarchical DBSCAN w/ %d Clusters\" % num_clusters)\n",
    "\n",
    "for angle in range(0, 360):\n",
    "    ax.view_init(30, angle)\n",
    "    plt.draw()\n",
    "    plt.pause(.001)\n"
   ]
  },
  {
   "cell_type": "code",
   "execution_count": null,
   "metadata": {},
   "outputs": [],
   "source": [
    "#2D scatter plot of top 2 PC's\n",
    "%matplotlib inline\n",
    "plt.figure(figsize=(10, 10))\n",
    "\n",
    "color_palette = sns.color_palette('bright', 8)\n",
    "cluster_colors = [color_palette[x] if x >= 0\n",
    "                  else (0.8, 0.8, 0.8)\n",
    "                  for x in clusterer.labels_]\n",
    "cluster_member_colors = [sns.desaturate(x, p) for x, p in\n",
    "                         zip(cluster_colors, clusterer.probabilities_)]\n",
    "plt.scatter(allschoolsPCA.PC1, allschoolsPCA.PC2,  linewidth=0, c=cluster_member_colors, alpha=0.4)\n",
    "plt.title(\"Hierarchical DBSCAN w/ %d Clusters\" % (num_clusters + 1))\n",
    "\n",
    "plt.show"
   ]
  },
  {
   "cell_type": "code",
   "execution_count": null,
   "metadata": {},
   "outputs": [],
   "source": [
    "#dendogram of the clusters\n",
    "%matplotlib inline\n",
    "plt.figure(figsize=(10, 10))\n",
    "clusterer.condensed_tree_.plot(select_clusters=True,\n",
    "                               selection_palette=sns.color_palette('bright', 8))"
   ]
  },
  {
   "cell_type": "code",
   "execution_count": null,
   "metadata": {},
   "outputs": [],
   "source": [
    "#create empty lists and dataframes for all the clusters\n",
    "cluster1 = []\n",
    "cluster1_df = pd.DataFrame(columns=('CONTROL', 'GRAD_DEBT_MDN_SUPP', 'MD_EARN_WNE_P10'))\n",
    "cluster2 = []\n",
    "cluster2_df = pd.DataFrame(columns=('CONTROL', 'GRAD_DEBT_MDN_SUPP', 'MD_EARN_WNE_P10'))\n",
    "cluster3 = []\n",
    "cluster3_df = pd.DataFrame(columns=('CONTROL', 'GRAD_DEBT_MDN_SUPP', 'MD_EARN_WNE_P10'))\n",
    "cluster4 = []\n",
    "cluster4_df = pd.DataFrame(columns=('CONTROL', 'GRAD_DEBT_MDN_SUPP', 'MD_EARN_WNE_P10'))\n",
    "cluster5 = []\n",
    "cluster5_df = pd.DataFrame(columns=('CONTROL', 'GRAD_DEBT_MDN_SUPP', 'MD_EARN_WNE_P10'))\n",
    "cluster6 = []\n",
    "cluster6_df = pd.DataFrame(columns=('CONTROL', 'GRAD_DEBT_MDN_SUPP', 'MD_EARN_WNE_P10'))\n",
    "cluster7 = []\n",
    "cluster7_df = pd.DataFrame(columns=('CONTROL', 'GRAD_DEBT_MDN_SUPP', 'MD_EARN_WNE_P10'))\n",
    "cluster8 = []\n",
    "cluster8_df = pd.DataFrame(columns=('CONTROL', 'GRAD_DEBT_MDN_SUPP', 'MD_EARN_WNE_P10'))\n",
    "\n",
    "#pull out the index of each cluster (school name)\n",
    "for i in sorted_ClusterList:\n",
    "    if i[0] == 0:\n",
    "        cluster1.append(i[1])\n",
    "    elif i[0] == 1:\n",
    "        cluster2.append(i[1])\n",
    "    elif i[0] == 2:\n",
    "        cluster3.append(i[1])\n",
    "    elif i[0] == 3:\n",
    "        cluster4.append(i[1])\n",
    "    elif i[0] == 4:\n",
    "        cluster5.append(i[1])\n",
    "    elif i[0] == 5:\n",
    "        cluster6.append(i[1])\n",
    "    elif i[0] == 6:\n",
    "        cluster7.append(i[1])\n",
    "    elif i[0] == 7:\n",
    "        cluster8.append(i[1])\n",
    "        \n",
    "#pull in the desired elements for each school in a cluster and put it in a dataframe\n",
    "for school in cluster1:\n",
    "    row = pd.DataFrame(all_schools.loc[[school], ['CONTROL', 'GRAD_DEBT_MDN_SUPP', 'MD_EARN_WNE_P10']])\n",
    "    cluster1_df = cluster1_df.append(row)\n",
    "\n",
    "for school in cluster2:\n",
    "    row = pd.DataFrame(all_schools.loc[[school], ['CONTROL', 'GRAD_DEBT_MDN_SUPP', 'MD_EARN_WNE_P10']])\n",
    "    cluster2_df = cluster2_df.append(row)\n",
    "    \n",
    "for school in cluster3:\n",
    "    row = pd.DataFrame(all_schools.loc[[school], ['CONTROL', 'GRAD_DEBT_MDN_SUPP', 'MD_EARN_WNE_P10']])\n",
    "    cluster3_df = cluster3_df.append(row)\n",
    "    \n",
    "for school in cluster4:\n",
    "    row = pd.DataFrame(all_schools.loc[[school], ['CONTROL', 'GRAD_DEBT_MDN_SUPP', 'MD_EARN_WNE_P10']])\n",
    "    cluster4_df = cluster4_df.append(row)\n",
    "    \n",
    "for school in cluster5:\n",
    "    row = pd.DataFrame(all_schools.loc[[school], ['CONTROL', 'GRAD_DEBT_MDN_SUPP', 'MD_EARN_WNE_P10']])\n",
    "    cluster5_df = cluster5_df.append(row)\n",
    "    \n",
    "for school in cluster6:\n",
    "    row = pd.DataFrame(all_schools.loc[[school], ['CONTROL', 'GRAD_DEBT_MDN_SUPP', 'MD_EARN_WNE_P10']])\n",
    "    cluster6_df = cluster6_df.append(row)\n",
    "    \n",
    "for school in cluster7:\n",
    "    row = pd.DataFrame(all_schools.loc[[school], ['CONTROL', 'GRAD_DEBT_MDN_SUPP', 'MD_EARN_WNE_P10']])\n",
    "    cluster7_df = cluster7_df.append(row)\n",
    "    \n",
    "for school in cluster8:\n",
    "    row = pd.DataFrame(all_schools.loc[[school], ['CONTROL', 'GRAD_DEBT_MDN_SUPP', 'MD_EARN_WNE_P10']])\n",
    "    cluster8_df = cluster8_df.append(row)"
   ]
  },
  {
   "cell_type": "code",
   "execution_count": null,
   "metadata": {},
   "outputs": [],
   "source": [
    "avg_md_debt = (cluster1_df.GRAD_DEBT_MDN_SUPP.mean(), cluster2_df.GRAD_DEBT_MDN_SUPP.mean(),\n",
    "              cluster3_df.GRAD_DEBT_MDN_SUPP.mean(),cluster4_df.GRAD_DEBT_MDN_SUPP.mean(),\n",
    "              cluster5_df.GRAD_DEBT_MDN_SUPP.mean(),cluster6_df.GRAD_DEBT_MDN_SUPP.mean(),\n",
    "              cluster7_df.GRAD_DEBT_MDN_SUPP.mean(),cluster8_df.GRAD_DEBT_MDN_SUPP.mean())\n",
    "avg_md_earn = (cluster1_df.MD_EARN_WNE_P10.mean(),cluster2_df.MD_EARN_WNE_P10.mean(),\n",
    "              cluster3_df.MD_EARN_WNE_P10.mean(),cluster4_df.MD_EARN_WNE_P10.mean(),\n",
    "              cluster5_df.MD_EARN_WNE_P10.mean(),cluster6_df.MD_EARN_WNE_P10.mean(),\n",
    "              cluster7_df.MD_EARN_WNE_P10.mean(),cluster8_df.MD_EARN_WNE_P10.mean())"
   ]
  },
  {
   "cell_type": "code",
   "execution_count": null,
   "metadata": {
    "collapsed": true
   },
   "outputs": [],
   "source": []
  },
  {
   "cell_type": "code",
   "execution_count": null,
   "metadata": {},
   "outputs": [],
   "source": [
    "plt.figure(figsize=(10,8))\n",
    "\n",
    "ind = np.arange(len(avg_md_earn)) \n",
    "width = 0.35       \n",
    "plt.bar(ind, avg_md_earn, width, label='Avg. Median Earnings', color='g')\n",
    "plt.bar(ind + width, avg_md_debt, width, label='Avg. Median Debt', color='r')\n",
    "\n",
    "plt.ylabel('Income/Debt')\n",
    "plt.title('Clusters')\n",
    "\n",
    "plt.xticks(ind + width / 2, ('Cluster 1', 'Cluster 2', 'Cluster 3', 'Cluster 4', 'Cluster 5', 'Cluster 6',\n",
    "                            'Cluster 7', 'Cluster 8'))\n",
    "plt.legend(loc='best')\n",
    "plt.show()"
   ]
  },
  {
   "cell_type": "code",
   "execution_count": null,
   "metadata": {
    "collapsed": true
   },
   "outputs": [],
   "source": []
  }
 ],
 "metadata": {
  "kernelspec": {
   "display_name": "Python 3",
   "language": "python",
   "name": "python3"
  },
  "language_info": {
   "codemirror_mode": {
    "name": "ipython",
    "version": 3
   },
   "file_extension": ".py",
   "mimetype": "text/x-python",
   "name": "python",
   "nbconvert_exporter": "python",
   "pygments_lexer": "ipython3",
   "version": "3.6.3"
  }
 },
 "nbformat": 4,
 "nbformat_minor": 2
}
