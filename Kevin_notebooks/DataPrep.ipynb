{
 "cells": [
  {
   "cell_type": "code",
   "execution_count": 1,
   "metadata": {},
   "outputs": [
    {
     "name": "stdout",
     "output_type": "stream",
     "text": [
      "This kernel has  12 cores and you can find the information regarding the memory usage: svmem(total=17179869184, available=6825730048, percent=60.3, used=9859670016, free=15376384, active=6816817152, inactive=6787145728, wired=3042852864)\n"
     ]
    }
   ],
   "source": [
    "import psutil\n",
    "import numpy as np\n",
    "import pandas as pd\n",
    "import multiprocessing as mp\n",
    "import pickle as pkl\n",
    "\n",
    "num_cores = mp.cpu_count()\n",
    "print(\"This kernel has \",num_cores,\"cores and you can find the information regarding the memory usage:\",psutil.virtual_memory())"
   ]
  },
  {
   "cell_type": "code",
   "execution_count": 2,
   "metadata": {},
   "outputs": [],
   "source": [
    "colNames=['UNITID','INSTNM','CITY','STABBR','ZIP','PREDDEG','HIGHDEG','CONTROL','REGION','LATITUDE','LONGITUDE',\n",
    "'HBCU','PBI','ANNHI','TRIBAL','AANAPII','HSI','NANTI','MENONLY','WOMENONLY','UGDS','UGDS_WHITE','UGDS_BLACK',\n",
    "'UGDS_HISP','UGDS_ASIAN','UGDS_AIAN','UGDS_NHPI',\n",
    "'TUITFTE','INEXPFTE','AVGFACSAL','PCTPELL','PCTFLOAN','DEBT_MDN',\n",
    "'GRAD_DEBT_MDN','WDRAW_DEBT_MDN','LO_INC_DEBT_MDN','MD_INC_DEBT_MDN','HI_INC_DEBT_MDN','CUML_DEBT_P90',\n",
    "'CUML_DEBT_P75','CUML_DEBT_P25','CUML_DEBT_P10','LOAN_EVER','PELL_EVER','AGE_ENTRY','DEBT_MDN_SUPP',\n",
    "'GRAD_DEBT_MDN_SUPP','GRAD_DEBT_MDN10YR_SUPP','COSTT4_A','COSTT4_P','TUITIONFEE_IN','TUITIONFEE_OUT']"
   ]
  },
  {
   "cell_type": "code",
   "execution_count": 3,
   "metadata": {},
   "outputs": [],
   "source": [
    "df16 = pd.read_csv(r'CollegeScorecard_Raw_Data/MERGED2016_17_PP.csv', usecols=colNames, low_memory=False)"
   ]
  },
  {
   "cell_type": "code",
   "execution_count": 4,
   "metadata": {},
   "outputs": [],
   "source": [
    "df16 = df16.replace(to_replace='PrivacySuppressed', value='')\n",
    "\n",
    "df16['DEBT_MDN'] = pd.to_numeric(df16['DEBT_MDN'])\n",
    "df16['CUML_DEBT_P90'] = pd.to_numeric(df16['CUML_DEBT_P90'])\n"
   ]
  },
  {
   "cell_type": "code",
   "execution_count": 5,
   "metadata": {
    "scrolled": true
   },
   "outputs": [
    {
     "data": {
      "text/plain": [
       "0       47750.0\n",
       "1       37540.0\n",
       "2       38455.0\n",
       "3       36250.0\n",
       "4       45000.0\n",
       "5       34000.0\n",
       "6       27362.0\n",
       "7       34231.0\n",
       "8       37250.0\n",
       "9       33474.0\n",
       "10      32524.0\n",
       "11      19179.0\n",
       "12      38065.0\n",
       "13      37500.0\n",
       "14      18500.0\n",
       "15      16998.0\n",
       "16      37028.0\n",
       "17          NaN\n",
       "18       9500.0\n",
       "19          NaN\n",
       "20      21690.0\n",
       "21          NaN\n",
       "22      34866.0\n",
       "23      35500.0\n",
       "24          NaN\n",
       "25          NaN\n",
       "26          NaN\n",
       "27      41750.0\n",
       "28          NaN\n",
       "29      12500.0\n",
       "         ...   \n",
       "7145    43000.0\n",
       "7146    43000.0\n",
       "7147    43000.0\n",
       "7148    43000.0\n",
       "7149    43000.0\n",
       "7150    43000.0\n",
       "7151    43000.0\n",
       "7152    17305.0\n",
       "7153        NaN\n",
       "7154        NaN\n",
       "7155        NaN\n",
       "7156        NaN\n",
       "7157        NaN\n",
       "7158        NaN\n",
       "7159        NaN\n",
       "7160        NaN\n",
       "7161        NaN\n",
       "7162        NaN\n",
       "7163    16920.0\n",
       "7164    12468.0\n",
       "7165    12468.0\n",
       "7166    20000.0\n",
       "7167     9500.0\n",
       "7168    29799.0\n",
       "7169        NaN\n",
       "7170    13583.0\n",
       "7171     9500.0\n",
       "7172    22292.0\n",
       "7173    12125.0\n",
       "7174        NaN\n",
       "Name: CUML_DEBT_P90, Length: 7175, dtype: float64"
      ]
     },
     "execution_count": 5,
     "metadata": {},
     "output_type": "execute_result"
    }
   ],
   "source": [
    "df16['CUML_DEBT_P90']"
   ]
  },
  {
   "cell_type": "code",
   "execution_count": 6,
   "metadata": {},
   "outputs": [],
   "source": [
    "df16.to_pickle(\"2016schooldata.pkl\")"
   ]
  },
  {
   "cell_type": "code",
   "execution_count": null,
   "metadata": {},
   "outputs": [],
   "source": []
  },
  {
   "cell_type": "code",
   "execution_count": null,
   "metadata": {},
   "outputs": [],
   "source": []
  }
 ],
 "metadata": {
  "kernelspec": {
   "display_name": "Python 3",
   "language": "python",
   "name": "python3"
  },
  "language_info": {
   "codemirror_mode": {
    "name": "ipython",
    "version": 3
   },
   "file_extension": ".py",
   "mimetype": "text/x-python",
   "name": "python",
   "nbconvert_exporter": "python",
   "pygments_lexer": "ipython3",
   "version": "3.6.8"
  }
 },
 "nbformat": 4,
 "nbformat_minor": 2
}
