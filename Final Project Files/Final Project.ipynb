{
 "cells": [
  {
   "cell_type": "markdown",
   "metadata": {},
   "source": [
    "# Importing Necessary Libraries:"
   ]
  },
  {
   "cell_type": "code",
   "execution_count": 5,
   "metadata": {},
   "outputs": [],
   "source": [
    "# Owen L.\n",
    "\n",
    "import pandas as pd\n",
    "import numpy as np\n",
    "\n",
    "import time\n",
    "\n",
    "from sklearn.impute import SimpleImputer\n",
    "from sklearn.cluster import KMeans, AgglomerativeClustering, SpectralClustering\n",
    "from sklearn import metrics\n",
    "from sklearn.neighbors import KNeighborsClassifier\n",
    "from sklearn.model_selection import train_test_split, cross_val_predict, cross_val_score, KFold\n",
    "from sklearn.preprocessing import scale\n",
    "from sklearn.metrics import accuracy_score\n",
    "from sklearn.cluster import DBSCAN\n",
    "from sklearn.decomposition import PCA \n",
    "\n",
    "import seaborn as sns\n",
    "\n",
    "import matplotlib.pyplot as plt\n",
    "%matplotlib inline\n",
    "plt.rcParams['figure.figsize'] = (10, 10)\n",
    "plt.style.use('seaborn')"
   ]
  },
  {
   "cell_type": "markdown",
   "metadata": {},
   "source": [
    "# Verifying Integrity of Numerical Columns:"
   ]
  },
  {
   "cell_type": "code",
   "execution_count": 2,
   "metadata": {},
   "outputs": [
    {
     "name": "stdout",
     "output_type": "stream",
     "text": [
      "No other bad dtypes.\n",
      "No other NaN values.\n",
      "(array([], dtype=int64), array([], dtype=int64))\n",
      "No other non-finite values.\n"
     ]
    }
   ],
   "source": [
    "school_data = pd.read_csv('data_files/BASE_clean_college_score_card_data.csv', index_col=0)\n",
    "\n",
    "# For clustering\n",
    "numeric_school_data = school_data.iloc[:,3:]\n",
    "\n",
    "#------------------------------------------------------------------------------\n",
    "# This next section will impute the data, and verify the integrity of the data.\n",
    "#------------------------------------------------------------------------------\n",
    "\n",
    "# Resolving any NaN values using Imputation\n",
    "# Credit to O.rka at https://stackoverflow.com/questions/33660836/impute-entire-dataframe-all-columns-using-scikit-learn-sklearn-without-itera\n",
    "fill_NaN = SimpleImputer(missing_values=np.nan, strategy='mean')\n",
    "imputed_DF = pd.DataFrame(fill_NaN.fit_transform(numeric_school_data))\n",
    "imputed_DF.columns = numeric_school_data.columns\n",
    "imputed_DF.index = numeric_school_data.index\n",
    "\n",
    "# Check for incorrect column types\n",
    "for i in range(len(imputed_DF.dtypes)):\n",
    "    if imputed_DF.dtypes[i] != imputed_DF.dtypes[1]:\n",
    "        print(imputed_DF.dtypes[i])\n",
    "\n",
    "print(\"No other bad dtypes.\")\n",
    "\n",
    "# Check for NaN values\n",
    "imputed_DF.isnull().values.any()\n",
    "\n",
    "print(\"No other NaN values.\")\n",
    "\n",
    "print(np.where(np.isnan(imputed_DF)))\n",
    "\n",
    "for i in range(len(imputed_DF.columns)):\n",
    "    for j in range(len(imputed_DF.index)):\n",
    "        if np.isfinite(imputed_DF.iloc[j,i]) == False:\n",
    "            print(j,i)\n",
    "            print(imputed_DF.iloc[j,i])\n",
    "\n",
    "print(\"No other non-finite values.\")"
   ]
  },
  {
   "cell_type": "markdown",
   "metadata": {},
   "source": [
    "# Creating PCA Model and Showing Variances:"
   ]
  },
  {
   "cell_type": "code",
   "execution_count": 3,
   "metadata": {},
   "outputs": [
    {
     "name": "stdout",
     "output_type": "stream",
     "text": [
      "The first 3 components explain 91.86202410494035% of the variance in this data.\n",
      "\n",
      "These are the principle components that explain more tha 0.1% of variance\n",
      "[0.47823209352059626, 0.22019407376440361, 0.10566594381758979, 0.06429982102069766, 0.05009197076472964, 0.03330270127676936, 0.01740196637291702, 0.008563789466790771, 0.006932595439011065, 0.0060717341995032885, 0.0042578144132859, 0.0020246679992636098, 0.001305049481308176, 0.001001523448914094]\n"
     ]
    },
    {
     "data": {
      "image/png": "[encoded data removed]",
      "text/plain": [
       "<Figure size 432x288 with 1 Axes>"
      ]
     },
     "metadata": {
      "needs_background": "light"
     },
     "output_type": "display_data"
    },
    {
     "data": {
      "image/png": "[encoded data removed]",
      "text/plain": [
       "<Figure size 432x288 with 1 Axes>"
      ]
     },
     "metadata": {
      "needs_background": "light"
     },
     "output_type": "display_data"
    },
    {
     "data": {
      "text/html": [
       "<div>\n",
       "<style scoped>\n",
       "    .dataframe tbody tr th:only-of-type {\n",
       "        vertical-align: middle;\n",
       "    }\n",
       "\n",
       "    .dataframe tbody tr th {\n",
       "        vertical-align: top;\n",
       "    }\n",
       "\n",
       "    .dataframe thead th {\n",
       "        text-align: right;\n",
       "    }\n",
       "</style>\n",
       "<table border=\"1\" class=\"dataframe\">\n",
       "  <thead>\n",
       "    <tr style=\"text-align: right;\">\n",
       "      <th></th>\n",
       "      <th>PC1</th>\n",
       "      <th>PC2</th>\n",
       "      <th>PC3</th>\n",
       "      <th>PC4</th>\n",
       "      <th>PC5</th>\n",
       "      <th>PC6</th>\n",
       "      <th>PC7</th>\n",
       "    </tr>\n",
       "  </thead>\n",
       "  <tbody>\n",
       "    <tr>\n",
       "      <th>Alabama A &amp; M University</th>\n",
       "      <td>1091.827246</td>\n",
       "      <td>2696.209565</td>\n",
       "      <td>-20215.111776</td>\n",
       "      <td>5511.283243</td>\n",
       "      <td>7311.346769</td>\n",
       "      <td>1114.951106</td>\n",
       "      <td>441.901700</td>\n",
       "    </tr>\n",
       "    <tr>\n",
       "      <th>University of Alabama at Birmingham</th>\n",
       "      <td>8533.696955</td>\n",
       "      <td>-2158.982662</td>\n",
       "      <td>-8091.848937</td>\n",
       "      <td>12775.504919</td>\n",
       "      <td>7521.830236</td>\n",
       "      <td>561.393684</td>\n",
       "      <td>138.005088</td>\n",
       "    </tr>\n",
       "    <tr>\n",
       "      <th>Amridge University</th>\n",
       "      <td>2798.621356</td>\n",
       "      <td>-7536.311148</td>\n",
       "      <td>-6411.361181</td>\n",
       "      <td>-3483.958989</td>\n",
       "      <td>-1239.229899</td>\n",
       "      <td>2855.388384</td>\n",
       "      <td>-7245.876932</td>\n",
       "    </tr>\n",
       "    <tr>\n",
       "      <th>University of Alabama in Huntsville</th>\n",
       "      <td>13825.162038</td>\n",
       "      <td>-4013.251454</td>\n",
       "      <td>-9746.481645</td>\n",
       "      <td>9403.260914</td>\n",
       "      <td>15164.974214</td>\n",
       "      <td>1149.222318</td>\n",
       "      <td>320.677826</td>\n",
       "    </tr>\n",
       "    <tr>\n",
       "      <th>Alabama State University</th>\n",
       "      <td>-2277.579336</td>\n",
       "      <td>3657.305922</td>\n",
       "      <td>-19478.848069</td>\n",
       "      <td>5754.517244</td>\n",
       "      <td>6782.795668</td>\n",
       "      <td>1227.223731</td>\n",
       "      <td>556.748550</td>\n",
       "    </tr>\n",
       "  </tbody>\n",
       "</table>\n",
       "</div>"
      ],
      "text/plain": [
       "                                              PC1          PC2           PC3  \\\n",
       "Alabama A & M University              1091.827246  2696.209565 -20215.111776   \n",
       "University of Alabama at Birmingham   8533.696955 -2158.982662  -8091.848937   \n",
       "Amridge University                    2798.621356 -7536.311148  -6411.361181   \n",
       "University of Alabama in Huntsville  13825.162038 -4013.251454  -9746.481645   \n",
       "Alabama State University             -2277.579336  3657.305922 -19478.848069   \n",
       "\n",
       "                                              PC4           PC5          PC6  \\\n",
       "Alabama A & M University              5511.283243   7311.346769  1114.951106   \n",
       "University of Alabama at Birmingham  12775.504919   7521.830236   561.393684   \n",
       "Amridge University                   -3483.958989  -1239.229899  2855.388384   \n",
       "University of Alabama in Huntsville   9403.260914  15164.974214  1149.222318   \n",
       "Alabama State University              5754.517244   6782.795668  1227.223731   \n",
       "\n",
       "                                             PC7  \n",
       "Alabama A & M University              441.901700  \n",
       "University of Alabama at Birmingham   138.005088  \n",
       "Amridge University                  -7245.876932  \n",
       "University of Alabama in Huntsville   320.677826  \n",
       "Alabama State University              556.748550  "
      ]
     },
     "execution_count": 3,
     "metadata": {},
     "output_type": "execute_result"
    }
   ],
   "source": [
    "pca_model = PCA()\n",
    "snsd_PCA = pca_model.fit_transform(imputed_DF)\n",
    "\n",
    "print(\"The first 3 components explain \",end=\"\")\n",
    "print((pca_model.explained_variance_ratio_[0]+\n",
    "       pca_model.explained_variance_ratio_[1]+\n",
    "       pca_model.explained_variance_ratio_[1])*100,\n",
    "       \"%\",sep=\"\",end=\"\")\n",
    "print(\" of the variance in this data.\")\n",
    "\n",
    "# Plotting the explained variance for each principle component\n",
    "list_of_PCA_variances = []\n",
    "for i in range(len(pca_model.explained_variance_ratio_)):\n",
    "    list_of_PCA_variances.append(pca_model.explained_variance_ratio_[i])\n",
    "    \n",
    "print(\"\\nThese are the principle components that explain more tha 0.1% of variance\")\n",
    "components_to_use = []\n",
    "for variance in list_of_PCA_variances:\n",
    "    if variance > 0.001:\n",
    "        components_to_use.append(variance)\n",
    "print(components_to_use)\n",
    "\n",
    "# This shows an extreme drop off for variances, which infers that we do not need a majority of these columns\n",
    "# for clustering\n",
    "plt.plot(np.linspace(1, len(pca_model.explained_variance_ratio_), 116), list_of_PCA_variances)\n",
    "plt.show()\n",
    "plt.scatter(snsd_PCA[:,0],snsd_PCA[:,1])\n",
    "plt.show()\n",
    "\n",
    "PCA_DF = pd.DataFrame(snsd_PCA[:,0:7], columns=['PC1', 'PC2', 'PC3', 'PC4', 'PC5', 'PC6', 'PC7'], \n",
    "                      index=list(school_data.iloc[:,0]))\n",
    "\n",
    "# Show the new points in R^7\n",
    "PCA_DF.head()\n"
   ]
  },
  {
   "cell_type": "markdown",
   "metadata": {},
   "source": [
    "# Running the Spectral Clustering Method:\n",
    "Major problem: My computer cannot run the algorithm on all schools without blowing up, it takes over 2 hours \n",
    "with 5000 schools out of the nearly 6000+"
   ]
  },
  {
   "cell_type": "code",
   "execution_count": 4,
   "metadata": {},
   "outputs": [
    {
     "name": "stdout",
     "output_type": "stream",
     "text": [
      "Clusters: [3 3 3 3 0] ...more data omitted\n",
      "\n",
      "Time taken: 0.1641242504119873\n"
     ]
    },
    {
     "name": "stderr",
     "output_type": "stream",
     "text": [
      "/home/owen/anaconda3/lib/python3.6/site-packages/sklearn/manifold/spectral_embedding_.py:237: UserWarning: Graph is not fully connected, spectral embedding may not work as expected.\n",
      "  warnings.warn(\"Graph is not fully connected, spectral embedding\"\n"
     ]
    }
   ],
   "source": [
    "# Example spectral clustering models, variables can be changed.\n",
    "start = time.time()\n",
    "clustering = SpectralClustering(n_clusters=5, assign_labels=\"discretize\", random_state=0).fit(PCA_DF.iloc[0:1000,:])\n",
    "print(\"Clusters:\", clustering.labels_[0:5], \"...more data omitted\")\n",
    "end = time.time()\n",
    "print(\"\\nTime taken: \", end=\"\")\n",
    "print(end - start)"
   ]
  },
  {
   "cell_type": "code",
   "execution_count": null,
   "metadata": {},
   "outputs": [],
   "source": [
    "\n",
    "\n"
   ]
  },
  {
   "cell_type": "code",
   "execution_count": null,
   "metadata": {},
   "outputs": [],
   "source": []
  },
  {
   "cell_type": "code",
   "execution_count": null,
   "metadata": {},
   "outputs": [],
   "source": []
  }
 ],
 "metadata": {
  "kernelspec": {
   "display_name": "Python 3",
   "language": "python",
   "name": "python3"
  },
  "language_info": {
   "codemirror_mode": {
    "name": "ipython",
    "version": 3
   },
   "file_extension": ".py",
   "mimetype": "text/x-python",
   "name": "python",
   "nbconvert_exporter": "python",
   "pygments_lexer": "ipython3",
   "version": "3.6.8"
  }
 },
 "nbformat": 4,
 "nbformat_minor": 2
}
